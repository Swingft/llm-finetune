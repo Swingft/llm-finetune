{
 "cells": [
  {
   "cell_type": "code",
   "outputs": [],
   "source": [
    "!pip install -q -U transformers datasets accelerate peft bitsandbytes trl"
   ],
   "metadata": {
    "collapsed": false,
    "ExecuteTime": {
     "end_time": "2025-08-24T09:30:40.949954Z",
     "start_time": "2025-08-24T09:30:39.381957Z"
    }
   },
   "id": "4eb9f9960901080",
   "execution_count": 6
  },
  {
   "cell_type": "code",
   "outputs": [
    {
     "data": {
      "text/plain": "VBox(children=(HTML(value='<center> <img\\nsrc=https://huggingface.co/front/assets/huggingface_logo-noborder.sv…",
      "application/vnd.jupyter.widget-view+json": {
       "version_major": 2,
       "version_minor": 0,
       "model_id": "e2399925b3d44bd39fa1ff816b73497a"
      }
     },
     "metadata": {},
     "output_type": "display_data"
    }
   ],
   "source": [
    "from huggingface_hub import notebook_login\n",
    "\n",
    "notebook_login()"
   ],
   "metadata": {
    "collapsed": false,
    "ExecuteTime": {
     "end_time": "2025-08-24T09:30:43.913488Z",
     "start_time": "2025-08-24T09:30:43.905949Z"
    }
   },
   "id": "9d4941e103c8c1ff",
   "execution_count": 7
  },
  {
   "cell_type": "code",
   "outputs": [
    {
     "data": {
      "text/plain": "config.json:   0%|          | 0.00/760 [00:00<?, ?B/s]",
      "application/vnd.jupyter.widget-view+json": {
       "version_major": 2,
       "version_minor": 0,
       "model_id": "1824d2710c904daa8e89c91b484d1134"
      }
     },
     "metadata": {},
     "output_type": "display_data"
    },
    {
     "ename": "ImportError",
     "evalue": "The installed version of bitsandbytes (<0.43.1) requires CUDA, but CUDA is not available. You may need to install PyTorch with CUDA support or upgrade bitsandbytes to >=0.43.1.",
     "output_type": "error",
     "traceback": [
      "\u001B[31m---------------------------------------------------------------------------\u001B[39m",
      "\u001B[31mImportError\u001B[39m                               Traceback (most recent call last)",
      "\u001B[36mCell\u001B[39m\u001B[36m \u001B[39m\u001B[32mIn[8]\u001B[39m\u001B[32m, line 23\u001B[39m\n\u001B[32m     15\u001B[39m \u001B[38;5;66;03m# 4비트 양자화 설정\u001B[39;00m\n\u001B[32m     16\u001B[39m bnb_config = BitsAndBytesConfig(\n\u001B[32m     17\u001B[39m     load_in_4bit=\u001B[38;5;28;01mTrue\u001B[39;00m,\n\u001B[32m     18\u001B[39m     bnb_4bit_quant_type=\u001B[33m\"\u001B[39m\u001B[33mnf4\u001B[39m\u001B[33m\"\u001B[39m,\n\u001B[32m     19\u001B[39m     bnb_4bit_compute_dtype=torch.bfloat16,\n\u001B[32m     20\u001B[39m     bnb_4bit_use_double_quant=\u001B[38;5;28;01mTrue\u001B[39;00m,\n\u001B[32m     21\u001B[39m )\n\u001B[32m---> \u001B[39m\u001B[32m23\u001B[39m model = AutoModelForCausalLM.from_pretrained(\n\u001B[32m     24\u001B[39m     model_name,\n\u001B[32m     25\u001B[39m     quantization_config=bnb_config,\n\u001B[32m     26\u001B[39m     device_map=\u001B[33m\"\u001B[39m\u001B[33mauto\u001B[39m\u001B[33m\"\u001B[39m,\n\u001B[32m     27\u001B[39m     trust_remote_code=\u001B[38;5;28;01mTrue\u001B[39;00m\n\u001B[32m     28\u001B[39m )\n\u001B[32m     29\u001B[39m model.config.use_cache = \u001B[38;5;28;01mFalse\u001B[39;00m\n\u001B[32m     30\u001B[39m model.config.pretraining_tp = \u001B[32m1\u001B[39m\n",
      "\u001B[36mFile \u001B[39m\u001B[32m/opt/anaconda3/envs/llm/lib/python3.11/site-packages/transformers/models/auto/auto_factory.py:600\u001B[39m, in \u001B[36m_BaseAutoModelClass.from_pretrained\u001B[39m\u001B[34m(cls, pretrained_model_name_or_path, *model_args, **kwargs)\u001B[39m\n\u001B[32m    598\u001B[39m     \u001B[38;5;28;01mif\u001B[39;00m model_class.config_class == config.sub_configs.get(\u001B[33m\"\u001B[39m\u001B[33mtext_config\u001B[39m\u001B[33m\"\u001B[39m, \u001B[38;5;28;01mNone\u001B[39;00m):\n\u001B[32m    599\u001B[39m         config = config.get_text_config()\n\u001B[32m--> \u001B[39m\u001B[32m600\u001B[39m     \u001B[38;5;28;01mreturn\u001B[39;00m model_class.from_pretrained(\n\u001B[32m    601\u001B[39m         pretrained_model_name_or_path, *model_args, config=config, **hub_kwargs, **kwargs\n\u001B[32m    602\u001B[39m     )\n\u001B[32m    603\u001B[39m \u001B[38;5;28;01mraise\u001B[39;00m \u001B[38;5;167;01mValueError\u001B[39;00m(\n\u001B[32m    604\u001B[39m     \u001B[33mf\u001B[39m\u001B[33m\"\u001B[39m\u001B[33mUnrecognized configuration class \u001B[39m\u001B[38;5;132;01m{\u001B[39;00mconfig.\u001B[34m__class__\u001B[39m\u001B[38;5;132;01m}\u001B[39;00m\u001B[33m for this kind of AutoModel: \u001B[39m\u001B[38;5;132;01m{\u001B[39;00m\u001B[38;5;28mcls\u001B[39m.\u001B[34m__name__\u001B[39m\u001B[38;5;132;01m}\u001B[39;00m\u001B[33m.\u001B[39m\u001B[38;5;130;01m\\n\u001B[39;00m\u001B[33m\"\u001B[39m\n\u001B[32m    605\u001B[39m     \u001B[33mf\u001B[39m\u001B[33m\"\u001B[39m\u001B[33mModel type should be one of \u001B[39m\u001B[38;5;132;01m{\u001B[39;00m\u001B[33m'\u001B[39m\u001B[33m, \u001B[39m\u001B[33m'\u001B[39m.join(c.\u001B[34m__name__\u001B[39m\u001B[38;5;250m \u001B[39m\u001B[38;5;28;01mfor\u001B[39;00m\u001B[38;5;250m \u001B[39mc\u001B[38;5;250m \u001B[39m\u001B[38;5;129;01min\u001B[39;00m\u001B[38;5;250m \u001B[39m\u001B[38;5;28mcls\u001B[39m._model_mapping)\u001B[38;5;132;01m}\u001B[39;00m\u001B[33m.\u001B[39m\u001B[33m\"\u001B[39m\n\u001B[32m    606\u001B[39m )\n",
      "\u001B[36mFile \u001B[39m\u001B[32m/opt/anaconda3/envs/llm/lib/python3.11/site-packages/transformers/modeling_utils.py:317\u001B[39m, in \u001B[36mrestore_default_torch_dtype.<locals>._wrapper\u001B[39m\u001B[34m(*args, **kwargs)\u001B[39m\n\u001B[32m    315\u001B[39m old_dtype = torch.get_default_dtype()\n\u001B[32m    316\u001B[39m \u001B[38;5;28;01mtry\u001B[39;00m:\n\u001B[32m--> \u001B[39m\u001B[32m317\u001B[39m     \u001B[38;5;28;01mreturn\u001B[39;00m func(*args, **kwargs)\n\u001B[32m    318\u001B[39m \u001B[38;5;28;01mfinally\u001B[39;00m:\n\u001B[32m    319\u001B[39m     torch.set_default_dtype(old_dtype)\n",
      "\u001B[36mFile \u001B[39m\u001B[32m/opt/anaconda3/envs/llm/lib/python3.11/site-packages/transformers/modeling_utils.py:4892\u001B[39m, in \u001B[36mPreTrainedModel.from_pretrained\u001B[39m\u001B[34m(cls, pretrained_model_name_or_path, config, cache_dir, ignore_mismatched_sizes, force_download, local_files_only, token, revision, use_safetensors, weights_only, *model_args, **kwargs)\u001B[39m\n\u001B[32m   4889\u001B[39m     hf_quantizer = \u001B[38;5;28;01mNone\u001B[39;00m\n\u001B[32m   4891\u001B[39m \u001B[38;5;28;01mif\u001B[39;00m hf_quantizer \u001B[38;5;129;01mis\u001B[39;00m \u001B[38;5;129;01mnot\u001B[39;00m \u001B[38;5;28;01mNone\u001B[39;00m:\n\u001B[32m-> \u001B[39m\u001B[32m4892\u001B[39m     hf_quantizer.validate_environment(\n\u001B[32m   4893\u001B[39m         torch_dtype=torch_dtype,\n\u001B[32m   4894\u001B[39m         from_tf=from_tf,\n\u001B[32m   4895\u001B[39m         from_flax=from_flax,\n\u001B[32m   4896\u001B[39m         device_map=device_map,\n\u001B[32m   4897\u001B[39m         weights_only=weights_only,\n\u001B[32m   4898\u001B[39m     )\n\u001B[32m   4899\u001B[39m     torch_dtype = hf_quantizer.update_torch_dtype(torch_dtype)\n\u001B[32m   4900\u001B[39m     device_map = hf_quantizer.update_device_map(device_map)\n",
      "\u001B[36mFile \u001B[39m\u001B[32m/opt/anaconda3/envs/llm/lib/python3.11/site-packages/transformers/quantizers/quantizer_bnb_4bit.py:88\u001B[39m, in \u001B[36mBnb4BitHfQuantizer.validate_environment\u001B[39m\u001B[34m(self, *args, **kwargs)\u001B[39m\n\u001B[32m     86\u001B[39m \u001B[38;5;28;01mif\u001B[39;00m version.parse(importlib.metadata.version(\u001B[33m\"\u001B[39m\u001B[33mbitsandbytes\u001B[39m\u001B[33m\"\u001B[39m)) < version.parse(\u001B[33m\"\u001B[39m\u001B[33m0.43.1\u001B[39m\u001B[33m\"\u001B[39m):\n\u001B[32m     87\u001B[39m     \u001B[38;5;28;01mif\u001B[39;00m \u001B[38;5;129;01mnot\u001B[39;00m torch.cuda.is_available():\n\u001B[32m---> \u001B[39m\u001B[32m88\u001B[39m         \u001B[38;5;28;01mraise\u001B[39;00m \u001B[38;5;167;01mImportError\u001B[39;00m(\n\u001B[32m     89\u001B[39m             \u001B[33m\"\u001B[39m\u001B[33mThe installed version of bitsandbytes (<0.43.1) requires CUDA, but CUDA is not available. \u001B[39m\u001B[33m\"\u001B[39m\n\u001B[32m     90\u001B[39m             \u001B[33m\"\u001B[39m\u001B[33mYou may need to install PyTorch with CUDA support or upgrade bitsandbytes to >=0.43.1.\u001B[39m\u001B[33m\"\u001B[39m\n\u001B[32m     91\u001B[39m         )\n\u001B[32m     93\u001B[39m \u001B[38;5;28;01mfrom\u001B[39;00m\u001B[38;5;250m \u001B[39m\u001B[34;01m.\u001B[39;00m\u001B[34;01m.\u001B[39;00m\u001B[34;01mintegrations\u001B[39;00m\u001B[38;5;250m \u001B[39m\u001B[38;5;28;01mimport\u001B[39;00m validate_bnb_backend_availability\n\u001B[32m     94\u001B[39m \u001B[38;5;28;01mfrom\u001B[39;00m\u001B[38;5;250m \u001B[39m\u001B[34;01m.\u001B[39;00m\u001B[34;01m.\u001B[39;00m\u001B[34;01mutils\u001B[39;00m\u001B[38;5;250m \u001B[39m\u001B[38;5;28;01mimport\u001B[39;00m is_bitsandbytes_multi_backend_available\n",
      "\u001B[31mImportError\u001B[39m: The installed version of bitsandbytes (<0.43.1) requires CUDA, but CUDA is not available. You may need to install PyTorch with CUDA support or upgrade bitsandbytes to >=0.43.1."
     ]
    }
   ],
   "source": [
    "import torch\n",
    "from datasets import load_dataset\n",
    "from transformers import (\n",
    "    AutoModelForCausalLM,\n",
    "    AutoTokenizer,\n",
    "    BitsAndBytesConfig,\n",
    "    TrainingArguments,\n",
    ")\n",
    "from peft import LoraConfig, get_peft_model\n",
    "from trl import SFTTrainer\n",
    "\n",
    "model_name = \"deepseek-ai/deepseek-coder-6.7b-instruct\"\n",
    "\n",
    "bnb_config = BitsAndBytesConfig(\n",
    "    load_in_4bit=True,\n",
    "    bnb_4bit_quant_type=\"nf4\",\n",
    "    bnb_4bit_compute_dtype=torch.bfloat16,\n",
    "    bnb_4bit_use_double_quant=True,\n",
    ")\n",
    "\n",
    "model = AutoModelForCausalLM.from_pretrained(\n",
    "    model_name,\n",
    "    quantization_config=bnb_config,\n",
    "    device_map=\"auto\",\n",
    "    trust_remote_code=True\n",
    ")\n",
    "model.config.use_cache = False\n",
    "model.config.pretraining_tp = 1\n",
    "\n",
    "tokenizer = AutoTokenizer.from_pretrained(model_name, trust_remote_code=True)\n",
    "tokenizer.pad_token = tokenizer.eos_token\n",
    "tokenizer.padding_side = \"right\"\n",
    "\n",
    "print(\"✅ 모델 및 토크나이저 로딩 완료\")"
   ],
   "metadata": {
    "collapsed": false,
    "ExecuteTime": {
     "end_time": "2025-08-24T09:30:57.861622Z",
     "start_time": "2025-08-24T09:30:45.910694Z"
    }
   },
   "id": "374721673ec5335b",
   "execution_count": 8
  },
  {
   "cell_type": "code",
   "outputs": [],
   "source": [
    "dataset = load_dataset(\"json\", data_files=\"alpaca_dataset.jsonl\", split=\"train\")\n",
    "\n",
    "train_test_split = dataset.train_test_split(test_size=0.1)\n",
    "train_dataset = train_test_split[\"train\"]\n",
    "test_dataset = train_test_split[\"test\"]\n",
    "\n",
    "print(f\"훈련 데이터셋 크기: {len(train_dataset)}\")\n",
    "print(f\"테스트 데이터셋 크기: {len(test_dataset)}\")"
   ],
   "metadata": {
    "collapsed": false
   },
   "id": "4991fac70edfed73"
  },
  {
   "cell_type": "code",
   "outputs": [],
   "source": [
    "# LoRA 설정\n",
    "lora_config = LoraConfig(\n",
    "    r=64,\n",
    "    lora_alpha=64,\n",
    "    lora_dropout=0.1,\n",
    "    bias=\"none\",\n",
    "    task_type=\"CAUSAL_LM\",\n",
    "    target_modules=[\"q_proj\", \"k_proj\", \"v_proj\", \"o_proj\"],\n",
    ")\n",
    "\n",
    "model = get_peft_model(model, lora_config)\n",
    "model.print_trainable_parameters()\n",
    "\n",
    "training_arguments = TrainingArguments(\n",
    "    output_dir=\"./results\",\n",
    "    num_train_epochs=3,                     \n",
    "    per_device_train_batch_size=8,          \n",
    "    gradient_accumulation_steps=2,          \n",
    "    optim=\"paged_adamw_32bit\",              \n",
    "    save_steps=50,\n",
    "    logging_steps=10,\n",
    "    learning_rate=2e-4,\n",
    "    weight_decay=0.001,\n",
    "    bf16=True,                              \n",
    "    max_grad_norm=0.3,\n",
    "    max_steps=-1,\n",
    "    warmup_ratio=0.03,\n",
    "    group_by_length=True,                   \n",
    "    lr_scheduler_type=\"cosine\",\n",
    "    dataloader_num_workers=4,               \n",
    "    remove_unused_columns=False,\n",
    "    \n",
    "    # A100 최적화 추가 설정\n",
    "    dataloader_pin_memory=True,            \n",
    "    tf32=True,                             \n",
    "    save_total_limit=5,\n",
    "    eval_strategy=\"steps\" if test_dataset else \"no\",\n",
    "    eval_steps=50 if test_dataset else None,\n",
    "    load_best_model_at_end=True if test_dataset else False,\n",
    "    metric_for_best_model=\"eval_loss\" if test_dataset else None,\n",
    "    greater_is_better=False if test_dataset else None,\n",
    "    \n",
    "    # 메모리 최적화 (80GB라 여유 있음)\n",
    "    per_device_eval_batch_size=8,          \n",
    "    prediction_loss_only=True,\n",
    ")"
   ],
   "metadata": {
    "collapsed": false
   },
   "id": "7f09781fc644ca3a"
  },
  {
   "cell_type": "markdown",
   "source": [],
   "metadata": {
    "collapsed": false
   },
   "id": "607b9cecd735ef36"
  },
  {
   "cell_type": "code",
   "outputs": [],
   "source": [
    "def formatting_prompts_func(example):\n",
    "    \"\"\"단일 예제를 포맷팅\"\"\"\n",
    "    instruction = example[\"instruction\"]\n",
    "    input_text = example[\"input\"] if example[\"input\"] else \"\"\n",
    "    output = example[\"output\"]\n",
    "    \n",
    "    if input_text:\n",
    "        text = f\"### Instruction:\\n{instruction}\\n\\n### Input:\\n{input_text}\\n\\n### Response:\\n{output}\"\n",
    "    else:\n",
    "        text = f\"### Instruction:\\n{instruction}\\n\\n### Response:\\n{output}\"\n",
    "    \n",
    "    return text\n",
    "    \n",
    "trainer = SFTTrainer(\n",
    "    model=model,\n",
    "    train_dataset=train_dataset,\n",
    "    eval_dataset=test_dataset,\n",
    "    peft_config=lora_config,\n",
    "    args=training_arguments,\n",
    "    formatting_func=formatting_prompts_func\n",
    ")"
   ],
   "metadata": {
    "collapsed": false
   },
   "id": "52a48782ec016856"
  },
  {
   "cell_type": "code",
   "outputs": [],
   "source": [
    "print(\"🚀 훈련을 시작합니다...\")\n",
    "trainer.train()\n",
    "print(\"✅ 훈련이 완료되었습니다.\")\n",
    "\n",
    "new_model_name = \"deepseek-coder-finetuned-r64a64-qkvo\"\n",
    "trainer.model.save_pretrained(new_model_name)\n",
    "print(f\"✅ 모델이 '{new_model_name}'에 저장되었습니다.\")"
   ],
   "metadata": {
    "collapsed": false
   },
   "id": "df86614926c5b68"
  }
 ],
 "metadata": {
  "kernelspec": {
   "display_name": "Python 3",
   "language": "python",
   "name": "python3"
  },
  "language_info": {
   "codemirror_mode": {
    "name": "ipython",
    "version": 2
   },
   "file_extension": ".py",
   "mimetype": "text/x-python",
   "name": "python",
   "nbconvert_exporter": "python",
   "pygments_lexer": "ipython2",
   "version": "2.7.6"
  }
 },
 "nbformat": 4,
 "nbformat_minor": 5
}
